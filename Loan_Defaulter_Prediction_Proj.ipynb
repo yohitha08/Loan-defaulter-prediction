{
  "cells": [
    {
      "cell_type": "code",
      "execution_count": null,
      "metadata": {
        "id": "6xoy8nv89x9-"
      },
      "outputs": [],
      "source": [
        "import warnings\n",
        "warnings.filterwarnings(\"ignore\")\n",
        "import pandas as pd\n",
        "import numpy as np\n",
        "#import pandas_profiling\n",
        "import matplotlib.pyplot as plt\n",
        "import seaborn as sns\n",
        "from sklearn.preprocessing import LabelEncoder\n",
        "from sklearn.model_selection import train_test_split\n",
        "from sklearn.ensemble import RandomForestClassifier\n",
        "from sklearn.metrics import roc_curve,auc, confusion_matrix\n",
        "from sklearn.metrics import precision_recall_fscore_support\n",
        "from sklearn.impute import KNNImputer\n",
        "import seaborn as sns\n",
        "from sklearn.linear_model import LogisticRegression\n",
        "from sklearn.model_selection import cross_val_score\n",
        "from sklearn.metrics import accuracy_score,f1_score\n",
        "from sklearn.metrics import fbeta_score, make_scorer\n",
        "from sklearn.preprocessing import MinMaxScaler\n",
        "from sklearn.discriminant_analysis import LinearDiscriminantAnalysis\n",
        "from sklearn.ensemble import RandomForestClassifier\n",
        "from sklearn.metrics import plot_roc_curve\n",
        "from sklearn.discriminant_analysis import LinearDiscriminantAnalysis\n",
        "from xgboost import XGBClassifier\n",
        "from sklearn.svm import SVC\n",
        "from sklearn.metrics import roc_auc_score\n",
        "from sklearn.model_selection import GridSearchCV\n",
        "from sklearn.model_selection import RepeatedStratifiedKFold\n",
        "import xgboost as xgb\n",
        "from sklearn import metrics\n",
        "from sklearn.model_selection import cross_validate\n",
        "from sklearn.model_selection import learning_curve, GridSearchCV\n",
        "from sklearn.model_selection import cross_val_score, KFold"
      ]
    },
    {
      "cell_type": "code",
      "execution_count": null,
      "metadata": {
        "id": "3WFuusvp9x-F"
      },
      "outputs": [],
      "source": [
        "def modelfit(alg, dtrain, predictors,useTrainCV=True, cv_folds=5, early_stopping_rounds=50):\n",
        "\n",
        "    if useTrainCV:\n",
        "        xgb_param = alg.get_xgb_params()\n",
        "        xgtrain = xgb.DMatrix(dtrain[predictors].values, label=dtrain['target'].values)\n",
        "        cvresult = xgb.cv(xgb_param, xgtrain, num_boost_round=alg.get_params()['n_estimators'], nfold=cv_folds,\n",
        "            metrics='auc', early_stopping_rounds=early_stopping_rounds, verbose_eval = None)\n",
        "        alg.set_params(n_estimators=cvresult.shape[0])\n",
        "\n",
        "    #Fit the algorithm on the data\n",
        "    alg.fit(dtrain[predictors], dtrain['target'],eval_metric='auc')\n",
        "\n",
        "    #Predict training set:\n",
        "    dtrain_predictions = alg.predict(dtrain[predictors])\n",
        "    dtrain_predprob = alg.predict_proba(dtrain[predictors])[:,1]\n",
        "\n",
        "    #Print model report:\n",
        "    print(\"\\nModel Report\")\n",
        "    print(\"Accuracy : %.4g\" % metrics.accuracy_score(dtrain['target'].values, dtrain_predictions))\n",
        "    print(\"AUC Score (Train): %f\" % metrics.roc_auc_score(dtrain['target'], dtrain_predprob))\n",
        "\n",
        "    feat_imp = pd.Series(alg.get_booster().get_fscore()).sort_values(ascending=False)\n",
        "    feat_imp.plot(kind='bar', title='Feature Importances')\n",
        "    plt.ylabel('Feature Importance Score')"
      ]
    },
    {
      "cell_type": "markdown",
      "metadata": {
        "id": "MMn_TG8q9x-H"
      },
      "source": [
        "## Encoding"
      ]
    },
    {
      "cell_type": "code",
      "execution_count": null,
      "metadata": {
        "id": "q9mL8T819x-K"
      },
      "outputs": [],
      "source": [
        "trainx = pd.read_csv(r\"C:\\Files\\Jash1\\IDA project\\train_x.csv\")\n",
        "trainy = pd.read_csv(r\"C:\\Files\\Jash1\\IDA project\\train_y.csv\")\n",
        "\n",
        "trainx['Loan type dup1'] = trainx['Loan type']\n",
        "trainx.rename(columns = {'Loan type':'Loan_type_A'}, inplace = True)\n",
        "trainx.rename(columns = {'Loan type dup1':'Loan_type_B'}, inplace = True)\n",
        "trainx['Occupation type dup1'] = trainx['Occupation type']\n",
        "trainx['Occupation type dup2'] = trainx['Occupation type']\n",
        "trainx.rename(columns = {'Occupation type':'Occupation_type_X'}, inplace = True)\n",
        "trainx.rename(columns = {'Occupation type dup1':'Occupation_type_Y'}, inplace = True)\n",
        "trainx.rename(columns = {'Occupation type dup2':'Occupation_type_Z'}, inplace = True)\n",
        "trainx.Loan_type_A[trainx.Loan_type_A == \"A\"] = 1\n",
        "trainx.Loan_type_A[trainx.Loan_type_A == \"B\"] = 0\n",
        "trainx.Loan_type_B[trainx.Loan_type_B == \"B\"] = 1\n",
        "trainx.Loan_type_B[trainx.Loan_type_B == \"A\"] = 0\n",
        "trainx.Occupation_type_X[trainx.Occupation_type_X == \"X\"] = 1\n",
        "trainx.Occupation_type_X[trainx.Occupation_type_X == \"Y\"] = 0\n",
        "trainx.Occupation_type_X[trainx.Occupation_type_X == \"Z\"] = 0\n",
        "trainx.Occupation_type_Y[trainx.Occupation_type_Y == \"X\"] = 0\n",
        "trainx.Occupation_type_Y[trainx.Occupation_type_Y == \"Y\"] = 1\n",
        "trainx.Occupation_type_Y[trainx.Occupation_type_Y == \"Z\"] = 0\n",
        "trainx.Occupation_type_Z[trainx.Occupation_type_Z == \"X\"] = 0\n",
        "trainx.Occupation_type_Z[trainx.Occupation_type_Z == \"Y\"] = 0\n",
        "trainx.Occupation_type_Z[trainx.Occupation_type_Z == \"Z\"] = 1\n",
        "trainx = trainx[[\"ID\",\"Expense\",\"Income\",\"Loan_type_A\",\"Loan_type_B\",\"Occupation_type_X\",\"Occupation_type_Y\",\"Occupation_type_Z\",\"Age\",\"Score1\",\"Score2\",\"Score3\",\"Score4\",\"Score5\"]]\n",
        "\n",
        "trainx = trainx.drop(columns = ['ID'])\n",
        "categorical_columns = [\"Loan_type_A\",\"Loan_type_B\",\"Occupation_type_X\",\"Occupation_type_Y\",\"Occupation_type_Z\", 'Age']\n",
        "numerical_columns = ['Expense','Income', 'Score1', 'Score2', 'Score3', 'Score4', 'Score5']"
      ]
    },
    {
      "cell_type": "markdown",
      "metadata": {
        "id": "bi7B_s1E9x-L"
      },
      "source": [
        "## Normalizing"
      ]
    },
    {
      "cell_type": "code",
      "execution_count": null,
      "metadata": {
        "id": "FZsHUsyL9x-M"
      },
      "outputs": [],
      "source": [
        "scaler = MinMaxScaler()\n",
        "trainx.loc(axis=1)[numerical_columns] = scaler.fit_transform(trainx.loc(axis=1)[numerical_columns])\n",
        "trainx = pd.DataFrame(trainx)\n",
        "X_imp = trainx.copy(deep=True)\n",
        "Y_imp = trainy.drop(['ID'],axis = 1)"
      ]
    },
    {
      "cell_type": "markdown",
      "metadata": {
        "id": "U3Th-gzR9x-M"
      },
      "source": [
        "## Imputing\n"
      ]
    },
    {
      "cell_type": "code",
      "execution_count": null,
      "metadata": {
        "id": "SEAvv25a9x-N"
      },
      "outputs": [],
      "source": [
        "trainx_cont = trainx[numerical_columns]\n",
        "\n",
        "from sklearn.experimental import enable_iterative_imputer\n",
        "from sklearn.impute import IterativeImputer\n",
        "imp = IterativeImputer(random_state= 0 )\n",
        "trainx_imp_cont = imp.fit_transform(trainx_cont)\n",
        "trainx_imp_cont = pd.DataFrame(trainx_imp_cont)\n",
        "\n",
        "\n",
        "trainx_imp_cont['Loan_type_A'] = trainx['Loan_type_A']\n",
        "trainx_imp_cont['Loan_type_B'] = trainx['Loan_type_B']\n",
        "trainx_imp_cont['Occupation_type_X'] = trainx['Occupation_type_X']\n",
        "trainx_imp_cont['Occupation_type_Y'] = trainx['Occupation_type_Y']\n",
        "trainx_imp_cont['Occupation_type_Z'] = trainx['Occupation_type_Z']\n",
        "trainx_imp_cont['Age'] = trainx['Age']\n"
      ]
    },
    {
      "cell_type": "code",
      "execution_count": null,
      "metadata": {
        "id": "pLWgxHYr9x-O"
      },
      "outputs": [],
      "source": [
        "imputer = KNNImputer(n_neighbors = 1)\n",
        "trainx_imp1 = imputer.fit_transform(trainx_imp_cont)\n",
        "trainx_imp1 = pd.DataFrame(trainx_imp1)\n",
        "X_imp1 = trainx_imp1.copy(deep=True)\n",
        "\n",
        "X_imp1['y'] = Y_imp['Label']\n",
        "trainxy_imp = imputer.fit_transform(X_imp1)\n",
        "trainxy_imp = pd.DataFrame(trainxy_imp,columns = ['Expense','Income','Loan_type_A','Loan_type_B','Occupation_type_X','Occupation_type_Y','Occupation_type_Z','Age','Score1','Score2','Score3','Score4','Score5','y'])\n",
        "y = trainxy_imp['y']\n",
        "trainx_imp_final = trainxy_imp.drop(['y'],axis=1)"
      ]
    },
    {
      "cell_type": "markdown",
      "metadata": {
        "id": "4YV4C9y49x-O"
      },
      "source": [
        "## Reverse Normalizing\n"
      ]
    },
    {
      "cell_type": "code",
      "execution_count": null,
      "metadata": {
        "id": "Oy3_LTln9x-P"
      },
      "outputs": [],
      "source": [
        "inv_train = trainx_imp_final.copy(deep=True)\n",
        "inv_train.loc(axis=1)[numerical_columns] = scaler.inverse_transform(trainx_imp_final.loc(axis=1)[numerical_columns])\n",
        "inv_train = pd.DataFrame(inv_train)\n",
        "X = inv_train.copy(deep=True)\n",
        "Y = pd.DataFrame(y)\n",
        "Y.rename(columns = {'y':'Label'}, inplace = True)"
      ]
    },
    {
      "cell_type": "code",
      "execution_count": null,
      "metadata": {
        "id": "ZAUr4QS-9x-P",
        "outputId": "7ddc7011-383e-4851-ac26-bcede65ddf75"
      },
      "outputs": [
        {
          "data": {
            "text/plain": [
              "<matplotlib.axes._subplots.AxesSubplot at 0x18f06045c48>"
            ]
          },
          "execution_count": 31,
          "metadata": {},
          "output_type": "execute_result"
        },
        {
          "data": {
            "image/png": "[encoded data removed]",
            "text/plain": [
              "<Figure size 720x720 with 2 Axes>"
            ]
          },
          "metadata": {
            "needs_background": "light"
          },
          "output_type": "display_data"
        }
      ],
      "source": [
        "fig=plt.figure(figsize=(10,10))\n",
        "sns.heatmap(X.corr())"
      ]
    },
    {
      "cell_type": "markdown",
      "metadata": {
        "id": "jBktS80y9x-Q"
      },
      "source": [
        "As from the correlation map above it is clear that Loan_type_B, Age, Occupation_type_Z and Score5 have high correlation due to the Dummy Variable trap and have to be dropped to increase model accuracy"
      ]
    },
    {
      "cell_type": "markdown",
      "metadata": {
        "id": "T4JNIEvw9x-Q"
      },
      "source": [
        "## Dropping Dummyvar trap"
      ]
    },
    {
      "cell_type": "code",
      "execution_count": null,
      "metadata": {
        "id": "LFlTUpGQ9x-Q"
      },
      "outputs": [],
      "source": [
        "X = X.drop(columns = ['Loan_type_B','Occupation_type_Z'])\n",
        "X = X.drop(columns = ['Score5'])\n",
        "X = X.drop(columns = ['Age'])\n",
        "XY = X.copy(deep=True)\n",
        "\n",
        "XY['target'] = Y['Label']\n",
        "train = XY.copy(deep=True)"
      ]
    },
    {
      "cell_type": "markdown",
      "metadata": {
        "id": "JfHlOOfi9x-R"
      },
      "source": [
        "## Fixing Learning rate and number of estimators"
      ]
    },
    {
      "cell_type": "code",
      "execution_count": null,
      "metadata": {
        "id": "htdfEvQy9x-R",
        "outputId": "51031367-6fd8-4315-91c4-5cbd4fdf31fd"
      },
      "outputs": [
        {
          "name": "stdout",
          "output_type": "stream",
          "text": [
            "\n",
            "Model Report\n",
            "Accuracy : 0.9882\n",
            "AUC Score (Train): 0.995157\n"
          ]
        },
        {
          "data": {
            "image/png": "[encoded data removed]",
            "text/plain": [
              "<Figure size 432x288 with 1 Axes>"
            ]
          },
          "metadata": {
            "needs_background": "light"
          },
          "output_type": "display_data"
        }
      ],
      "source": [
        "predictors = [x for x in XY.columns if x not in ['target']]\n",
        "xgb1 = XGBClassifier(\n",
        " learning_rate =0.1,\n",
        " n_estimators=1000,\n",
        " max_depth=5,\n",
        " min_child_weight=1,\n",
        " gamma=0,\n",
        " subsample=0.8,\n",
        " colsample_bytree=0.8,\n",
        " objective= 'binary:logistic',\n",
        " nthread=4,\n",
        " scale_pos_weight=1,\n",
        " seed=27,\n",
        " use_label_encoder = False)\n",
        "modelfit(xgb1, XY, predictors)"
      ]
    },
    {
      "cell_type": "markdown",
      "metadata": {
        "id": "Z_9iLQxQ9x-R"
      },
      "source": [
        "## Tuning Max_depth and Min_child_weight"
      ]
    },
    {
      "cell_type": "code",
      "execution_count": null,
      "metadata": {
        "id": "ib0WbT_q9x-R",
        "outputId": "0c36c350-bb2a-4397-ce54-1b68e6f06450"
      },
      "outputs": [
        {
          "data": {
            "text/plain": [
              "({'max_depth': 12, 'min_child_weight': 1}, 0.9799398704087396)"
            ]
          },
          "execution_count": 14,
          "metadata": {},
          "output_type": "execute_result"
        }
      ],
      "source": [
        "param_test1 = {\n",
        " 'max_depth':range(6,20,2),\n",
        " 'min_child_weight':range(1,6,2)\n",
        "}\n",
        "gsearch1 = GridSearchCV(estimator = XGBClassifier(use_label_encoder = False,learning_rate =0.1, n_estimators=140, max_depth=5,\n",
        " min_child_weight=1, gamma=0, subsample=0.8, colsample_bytree=0.8,\n",
        " objective= 'binary:logistic', nthread=4, scale_pos_weight=1, seed=27),\n",
        " param_grid = param_test1, scoring='roc_auc',n_jobs=4,iid=False, cv=5)\n",
        "gsearch1.fit(XY[predictors],XY['target'])\n",
        "# gsearch1.cv_results_,\n",
        "gsearch1.best_params_, gsearch1.best_score_"
      ]
    },
    {
      "cell_type": "markdown",
      "metadata": {
        "id": "zrsxr_fp9x-S"
      },
      "source": [
        "## Tune Gamma"
      ]
    },
    {
      "cell_type": "code",
      "execution_count": null,
      "metadata": {
        "id": "HLF9PoQ89x-S",
        "outputId": "c18d767a-a064-4b64-a719-5f00139498fa"
      },
      "outputs": [
        {
          "data": {
            "text/plain": [
              "({'gamma': 0.2}, 0.9799850287043185)"
            ]
          },
          "execution_count": 15,
          "metadata": {},
          "output_type": "execute_result"
        }
      ],
      "source": [
        "param_test3 = {\n",
        " 'gamma':[i/10.0 for i in range(0,5)]\n",
        "}\n",
        "gsearch3 = GridSearchCV(estimator = XGBClassifier(use_label_encoder = False,learning_rate =0.1, n_estimators=140, max_depth=12,\n",
        " min_child_weight=1, gamma=0, subsample=0.8, colsample_bytree=0.8,\n",
        " objective= 'binary:logistic', nthread=4, scale_pos_weight=1,seed=27),\n",
        " param_grid = param_test3, scoring='roc_auc',n_jobs=4,iid=False, cv=5)\n",
        "gsearch3.fit(XY[predictors],XY['target'])\n",
        "# gsearch3.cv_results_,\n",
        "gsearch3.best_params_, gsearch3.best_score_"
      ]
    },
    {
      "cell_type": "markdown",
      "metadata": {
        "id": "B0G-F-jo9x-S"
      },
      "source": [
        "## Recalibrating the classifier"
      ]
    },
    {
      "cell_type": "code",
      "execution_count": null,
      "metadata": {
        "id": "TAdPEPyz9x-S",
        "outputId": "36016547-2010-423f-f2c0-e00ffd5361d3"
      },
      "outputs": [
        {
          "name": "stdout",
          "output_type": "stream",
          "text": [
            "\n",
            "Model Report\n",
            "Accuracy : 0.9928\n",
            "AUC Score (Train): 0.998755\n"
          ]
        },
        {
          "data": {
            "image/png": "[encoded data removed]",
            "text/plain": [
              "<Figure size 432x288 with 1 Axes>"
            ]
          },
          "metadata": {
            "needs_background": "light"
          },
          "output_type": "display_data"
        }
      ],
      "source": [
        "xgb2 = XGBClassifier(\n",
        " learning_rate =0.1,\n",
        " n_estimators=1000,\n",
        " max_depth=12,\n",
        " min_child_weight=1,\n",
        " gamma=0.2,\n",
        " subsample=0.8,\n",
        " colsample_bytree=0.8,\n",
        " objective= 'binary:logistic',\n",
        " nthread=4,\n",
        " scale_pos_weight=1,\n",
        " seed=27,\n",
        " use_label_encoder = False)\n",
        "modelfit(xgb2, XY, predictors)"
      ]
    },
    {
      "cell_type": "markdown",
      "metadata": {
        "id": "VwaYswH19x-S"
      },
      "source": [
        "## Tuning subsample and colsample_bytree"
      ]
    },
    {
      "cell_type": "code",
      "execution_count": null,
      "metadata": {
        "id": "PdNPX0ru9x-T",
        "outputId": "5baeeaf8-98aa-40de-d0e3-a53fe90e0c28"
      },
      "outputs": [
        {
          "data": {
            "text/plain": [
              "({'colsample_bytree': 0.8, 'subsample': 0.8}, 0.9801007599641508)"
            ]
          },
          "execution_count": 18,
          "metadata": {},
          "output_type": "execute_result"
        }
      ],
      "source": [
        "param_test4 = {\n",
        " 'subsample':[i/10.0 for i in range(6,10)],\n",
        " 'colsample_bytree':[i/10.0 for i in range(6,10)]\n",
        "}\n",
        "gsearch4 = GridSearchCV(estimator = XGBClassifier(use_label_encoder = False,learning_rate =0.1, n_estimators=177, max_depth=12,\n",
        " min_child_weight=1, gamma=0.2, subsample=0.8, colsample_bytree=0.8,\n",
        " objective= 'binary:logistic', nthread=4, scale_pos_weight=1,seed=27),\n",
        " param_grid = param_test4, scoring='roc_auc',n_jobs=4,iid=False, cv=5)\n",
        "gsearch4.fit(train[predictors],train['target'])\n",
        "# gsearch4.cv_results_,\n",
        "gsearch4.best_params_, gsearch4.best_score_\n"
      ]
    },
    {
      "cell_type": "markdown",
      "metadata": {
        "id": "u4RF0VrE9x-T"
      },
      "source": [
        "# Tuning reg_alpha"
      ]
    },
    {
      "cell_type": "code",
      "execution_count": null,
      "metadata": {
        "id": "PWreniPu9x-T",
        "outputId": "2535c477-4862-44bd-8342-8290f219772e"
      },
      "outputs": [
        {
          "data": {
            "text/plain": [
              "({'reg_alpha': 0.1}, 0.9802083697320653)"
            ]
          },
          "execution_count": 19,
          "metadata": {},
          "output_type": "execute_result"
        }
      ],
      "source": [
        "param_test6 = {\n",
        " 'reg_alpha':[1e-5, 1e-2, 0.1, 1, 100]\n",
        "}\n",
        "gsearch6 = GridSearchCV(estimator = XGBClassifier(use_label_encoder = False,learning_rate =0.1, n_estimators=177, max_depth=12,\n",
        " min_child_weight=1, gamma=0.2, subsample=0.8, colsample_bytree=0.8,\n",
        " objective= 'binary:logistic', nthread=4, scale_pos_weight=1,seed=27),\n",
        " param_grid = param_test6, scoring='roc_auc',n_jobs=4,iid=False, cv=5)\n",
        "gsearch6.fit(train[predictors],train['target'])\n",
        "# gsearch6.cv_results_,\n",
        "gsearch6.best_params_, gsearch6.best_score_"
      ]
    },
    {
      "cell_type": "markdown",
      "metadata": {
        "id": "0GeOgzg_9x-T"
      },
      "source": [
        "# Tuning reg_lambda"
      ]
    },
    {
      "cell_type": "code",
      "execution_count": null,
      "metadata": {
        "id": "y2d8PyCs9x-T",
        "outputId": "3a17b4ee-303a-4073-bd53-bf0caabce4ee"
      },
      "outputs": [
        {
          "data": {
            "text/plain": [
              "({'reg_lambda': 1}, 0.9802083697320653)"
            ]
          },
          "execution_count": 20,
          "metadata": {},
          "output_type": "execute_result"
        }
      ],
      "source": [
        "param_test8 = {\n",
        " 'reg_lambda':[1e-5, 1e-2, 0.1, 1, 100]\n",
        "}\n",
        "gsearch8 = GridSearchCV(estimator = XGBClassifier(use_label_encoder = False,learning_rate =0.1, n_estimators=177, max_depth=12,\n",
        " min_child_weight=1, gamma=0.2, subsample=0.8, colsample_bytree=0.8,\n",
        " objective= 'binary:logistic', nthread=4, scale_pos_weight=1,seed=27,reg_alpha = 0.1),\n",
        " param_grid = param_test8, scoring='roc_auc',n_jobs=4,iid=False, cv=5)\n",
        "gsearch8.fit(train[predictors],train['target'])\n",
        "gsearch8.best_params_, gsearch8.best_score_"
      ]
    },
    {
      "cell_type": "markdown",
      "metadata": {
        "id": "015wRmMo9x-U"
      },
      "source": [
        "# Final Model"
      ]
    },
    {
      "cell_type": "code",
      "execution_count": null,
      "metadata": {
        "id": "Id45Y4ps9x-U",
        "outputId": "fd235407-d555-4902-9a28-1a5ce151d641"
      },
      "outputs": [
        {
          "name": "stdout",
          "output_type": "stream",
          "text": [
            "\n",
            "Model Report\n",
            "Accuracy : 0.9929\n",
            "AUC Score (Train): 0.998947\n"
          ]
        },
        {
          "data": {
            "image/png": "[encoded data removed]",
            "text/plain": [
              "<Figure size 432x288 with 1 Axes>"
            ]
          },
          "metadata": {
            "needs_background": "light"
          },
          "output_type": "display_data"
        }
      ],
      "source": [
        "xgb4 = XGBClassifier(\n",
        " learning_rate =0.01,\n",
        " n_estimators=5000,\n",
        " max_depth=12,\n",
        " min_child_weight=1,\n",
        " gamma=0.2,\n",
        " subsample=0.8,\n",
        " colsample_bytree=0.8,\n",
        " objective= 'binary:logistic',\n",
        " nthread=4,\n",
        " scale_pos_weight=1,\n",
        " reg_alpha = 0.1,\n",
        " reg_lambda = 1,\n",
        " seed=27,\n",
        " use_label_encoder = False)\n",
        "modelfit(xgb4, XY, predictors)\n"
      ]
    },
    {
      "cell_type": "markdown",
      "metadata": {
        "id": "67_uEscP9x-U"
      },
      "source": [
        "# Train-Test split"
      ]
    },
    {
      "cell_type": "code",
      "execution_count": null,
      "metadata": {
        "id": "3UR0jMGF9x-U",
        "outputId": "327db68b-39b2-4227-b6df-8a12446cf676"
      },
      "outputs": [
        {
          "name": "stdout",
          "output_type": "stream",
          "text": [
            "Training Data Set Accuracy for xgb:  0.99325\n",
            "Training Data F2 Score for xgb:  0.9244854575321287\n",
            "Validation Mean F2 Score for xgb:  0.837086352065792\n",
            "Validation Mean Accuracy for xgb:  0.98475\n"
          ]
        }
      ],
      "source": [
        "X_train,x ,Y_train, y = train_test_split(X, Y, test_size = 0.2, random_state = 42, stratify = Y)\n",
        "\n",
        "model1 = xgb4.fit(X_train,Y_train)\n",
        "y_pred_xgb4_train = model1.predict(X_train)\n",
        "y_pred_xgb4_test = model1.predict(x)\n",
        "f2score_test = fbeta_score(y,y_pred_xgb4_test,average ='binary',beta=2)\n",
        "f2score_train = fbeta_score(Y_train,y_pred_xgb4_train,average='binary',beta=2)\n",
        "acc_test = accuracy_score(y,y_pred_xgb4_test)\n",
        "acc_train = accuracy_score(Y_train,y_pred_xgb4_train)\n",
        "\n",
        "print(\"Training Data Set Accuracy for xgb: \", accuracy_score(Y_train,y_pred_xgb4_train))\n",
        "print(\"Training Data F2 Score for xgb: \", f2score_train)\n",
        "print(\"Validation Mean F2 Score for xgb: \",f2score_test)\n",
        "print(\"Validation Mean Accuracy for xgb: \",accuracy_score(y,y_pred_xgb4_test))\n"
      ]
    },
    {
      "cell_type": "markdown",
      "metadata": {
        "id": "GEIyvNy39x-V"
      },
      "source": [
        "# KFold Cross Validation Score"
      ]
    },
    {
      "cell_type": "code",
      "execution_count": null,
      "metadata": {
        "id": "HjkZThJS9x-V",
        "outputId": "6e8a1951-cd1d-403e-b4a3-1a3c65df4021"
      },
      "outputs": [
        {
          "data": {
            "text/plain": [
              "-0.9845499999999999"
            ]
          },
          "execution_count": 23,
          "metadata": {},
          "output_type": "execute_result"
        }
      ],
      "source": [
        "kfold = KFold(n_splits=10, shuffle=True, random_state=7)\n",
        "scoresxgb = cross_val_score(model1, X, Y, cv=kfold)\n",
        "accuracy_xgb= scoresxgb.mean() * (-1)\n",
        "acc_xgb"
      ]
    },
    {
      "cell_type": "markdown",
      "metadata": {
        "id": "6ACvDG2C9x-W"
      },
      "source": [
        "# Importing Test Data and Preprocessing"
      ]
    },
    {
      "cell_type": "code",
      "execution_count": null,
      "metadata": {
        "id": "iBepBXDn9x-W"
      },
      "outputs": [],
      "source": [
        "testx = pd.read_csv(r\"C:\\Files\\Jash1\\IDA project\\test_x.csv\")"
      ]
    },
    {
      "cell_type": "code",
      "execution_count": null,
      "metadata": {
        "id": "zj7AEZI59x-W"
      },
      "outputs": [],
      "source": [
        "testx['Loan type dup1'] = testx['Loan type']\n",
        "testx.rename(columns = {'Loan type':'Loan_type_A'}, inplace = True)\n",
        "testx.rename(columns = {'Loan type dup1':'Loan_type_B'}, inplace = True)\n",
        "testx['Occupation type dup1'] = testx['Occupation type']\n",
        "testx['Occupation type dup2'] = testx['Occupation type']\n",
        "testx.rename(columns = {'Occupation type':'Occupation_type_X'}, inplace = True)\n",
        "testx.rename(columns = {'Occupation type dup1':'Occupation_type_Y'}, inplace = True)\n",
        "testx.rename(columns = {'Occupation type dup2':'Occupation_type_Z'}, inplace = True)\n",
        "testx.Loan_type_A[testx.Loan_type_A == \"A\"] = 1\n",
        "testx.Loan_type_A[testx.Loan_type_A == \"B\"] = 0\n",
        "testx.Loan_type_B[testx.Loan_type_B == \"B\"] = 1\n",
        "testx.Loan_type_B[testx.Loan_type_B == \"A\"] = 0\n",
        "testx.Occupation_type_X[testx.Occupation_type_X == \"X\"] = 1\n",
        "testx.Occupation_type_X[testx.Occupation_type_X == \"Y\"] = 0\n",
        "testx.Occupation_type_X[testx.Occupation_type_X == \"Z\"] = 0\n",
        "testx.Occupation_type_Y[testx.Occupation_type_Y == \"X\"] = 0\n",
        "testx.Occupation_type_Y[testx.Occupation_type_Y == \"Y\"] = 1\n",
        "testx.Occupation_type_Y[testx.Occupation_type_Y == \"Z\"] = 0\n",
        "testx.Occupation_type_Z[testx.Occupation_type_Z == \"X\"] = 0\n",
        "testx.Occupation_type_Z[testx.Occupation_type_Z == \"Y\"] = 0\n",
        "testx.Occupation_type_Z[testx.Occupation_type_Z == \"Z\"] = 1\n",
        "testx = testx[[\"ID_Test\",\"Expense\",\"Income\",\"Loan_type_A\",\"Loan_type_B\",\"Occupation_type_X\",\"Occupation_type_Y\",\"Occupation_type_Z\",\"Age\",\"Score1\",\"Score2\",\"Score3\",\"Score4\",\"Score5\"]]\n",
        "\n",
        "testx = testx.drop(columns = ['ID_Test'])\n",
        "testx = testx.drop(columns = ['Loan_type_B','Occupation_type_Z'])\n",
        "testx = testx.drop(columns = ['Age','Score5'])\n",
        "testx['Loan_type_A'] = pd.to_numeric(testx['Loan_type_A'])\n",
        "testx['Occupation_type_X'] = pd.to_numeric(testx['Occupation_type_X'])\n",
        "testx['Occupation_type_Y'] = pd.to_numeric(testx['Occupation_type_Y'])"
      ]
    },
    {
      "cell_type": "markdown",
      "metadata": {
        "id": "3wrCoszO9x-W"
      },
      "source": [
        "# Predicting the values"
      ]
    },
    {
      "cell_type": "code",
      "execution_count": null,
      "metadata": {
        "id": "nUTgfNWL9x-d"
      },
      "outputs": [],
      "source": [
        "model = xgb4.fit(X,Y)\n",
        "y_pred_f = model.predict(testx)\n",
        "\n",
        "y_pred_f = pd.DataFrame(y_pred_f,columns = {'Label'},index = None)\n",
        "y_pred_f['ID']  = range(1,len(testx)+1)\n",
        "y_pred_f = y_pred_f[[\"ID\",\"Label\"]]\n",
        "y_pred_f.to_csv(r'C:\\Files\\Jash1\\IDA project\\pred_y.csv',index=False)"
      ]
    }
  ],
  "metadata": {
    "kernelspec": {
      "display_name": "Python 3",
      "language": "python",
      "name": "python3"
    },
    "language_info": {
      "codemirror_mode": {
        "name": "ipython",
        "version": 3
      },
      "file_extension": ".py",
      "mimetype": "text/x-python",
      "name": "python",
      "nbconvert_exporter": "python",
      "pygments_lexer": "ipython3",
      "version": "3.7.6"
    },
    "colab": {
      "provenance": []
    }
  },
  "nbformat": 4,
  "nbformat_minor": 0
}